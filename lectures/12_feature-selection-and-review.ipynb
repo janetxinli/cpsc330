{
 "cells": [
  {
   "cell_type": "markdown",
   "metadata": {
    "slideshow": {
     "slide_type": "slide"
    }
   },
   "source": [
    "# CPSC 330 Lecture 12"
   ]
  },
  {
   "cell_type": "markdown",
   "metadata": {},
   "source": [
    "#### Lecture plan\n",
    "\n",
    "- 👋\n",
    "- **Turn on recording**\n",
    "- Announcements (5 min)\n",
    "- Lecture 11 True/False questions (10 min)\n",
    "- Feature correlations (10 min)\n",
    "- Feature selection: intro (5 min)\n",
    "- Feature selection: importance-based feature elimination (15 min)\n",
    "- Break (5 min)\n",
    "- Midterm review (30 min)"
   ]
  },
  {
   "cell_type": "code",
   "execution_count": 1,
   "metadata": {
    "slideshow": {
     "slide_type": "skip"
    }
   },
   "outputs": [],
   "source": [
    "import numpy as np\n",
    "import pandas as pd\n",
    "import matplotlib.pyplot as plt\n",
    "\n",
    "from sklearn.model_selection import train_test_split, cross_val_score, cross_validate, GridSearchCV\n",
    "from sklearn.preprocessing import StandardScaler, OrdinalEncoder, OneHotEncoder\n",
    "from sklearn.linear_model import Ridge, RidgeCV\n",
    "from sklearn.ensemble import RandomForestRegressor\n",
    "from sklearn.dummy import DummyRegressor\n",
    "from sklearn.impute import SimpleImputer\n",
    "from sklearn.compose import ColumnTransformer, TransformedTargetRegressor\n",
    "from sklearn.pipeline import Pipeline, make_pipeline\n",
    "from sklearn.feature_selection import RFE, RFECV\n",
    "\n",
    "import seaborn as sns"
   ]
  },
  {
   "cell_type": "code",
   "execution_count": 2,
   "metadata": {},
   "outputs": [],
   "source": [
    "from utils import cross_validate_std"
   ]
  },
  {
   "cell_type": "code",
   "execution_count": 3,
   "metadata": {},
   "outputs": [],
   "source": [
    "plt.rcParams['font.size'] = 16"
   ]
  },
  {
   "cell_type": "markdown",
   "metadata": {},
   "source": [
    "## Announcements\n",
    "\n",
    "- hw5 deadline passed \n",
    "  - hw6 posted in 1-2 weeks, due in 3 weeks\n",
    "- Learning objectives and summaries now available for Lectures 2-11\n",
    "- Midterm this Thursday in class!\n",
    "- Midterm instructions: https://piazza.com/class/kb2e6nwu3uj23?cid=376"
   ]
  },
  {
   "cell_type": "markdown",
   "metadata": {},
   "source": [
    "## Inspirational speech on academic integrity (2 min)"
   ]
  },
  {
   "cell_type": "markdown",
   "metadata": {},
   "source": [
    "## Lecture 11 T/F (10 min)"
   ]
  },
  {
   "cell_type": "markdown",
   "metadata": {},
   "source": [
    "## Data processing code from last class"
   ]
  },
  {
   "cell_type": "code",
   "execution_count": 4,
   "metadata": {},
   "outputs": [],
   "source": [
    "df = pd.read_csv(\"data/housing.csv\", index_col=0)\n",
    "\n",
    "df_train, df_test = train_test_split(df, random_state=123)\n",
    "\n",
    "X_train = df_train.drop(columns=['SalePrice'])\n",
    "y_train = df_train['SalePrice']\n",
    "\n",
    "X_test = df_test.drop(columns=['SalePrice'])\n",
    "y_test = df_test['SalePrice']"
   ]
  },
  {
   "cell_type": "code",
   "execution_count": 5,
   "metadata": {},
   "outputs": [],
   "source": [
    "numeric_features     = ['LotFrontage', 'LotArea', 'OverallQual', 'OverallCond', 'YearBuilt', \n",
    "                        'YearRemodAdd', 'MasVnrArea', 'BsmtFinSF1', 'BsmtFinSF2', 'BsmtUnfSF', \n",
    "                        'TotalBsmtSF', '1stFlrSF', '2ndFlrSF', 'LowQualFinSF', 'GrLivArea', \n",
    "                        'BsmtFullBath', 'BsmtHalfBath', 'FullBath', 'HalfBath', \n",
    "                        'TotRmsAbvGrd', 'Fireplaces', 'GarageYrBlt', 'GarageCars', \n",
    "                        'GarageArea', 'WoodDeckSF', 'OpenPorchSF', 'EnclosedPorch', '3SsnPorch', \n",
    "                        'ScreenPorch', 'PoolArea', 'MiscVal', 'YrSold']\n",
    "ordinal_features_reg = ['ExterQual', 'ExterCond', 'BsmtQual', 'BsmtCond', 'HeatingQC', \n",
    "                        'KitchenQual', 'FireplaceQu', 'GarageQual', 'GarageCond', 'PoolQC']\n",
    "ordinal_features_oth = ['BsmtExposure', 'BsmtFinType1', 'BsmtFinType2', \n",
    "                        'Functional',  'Fence']\n",
    "categorical_features = list(set(X_train.columns) - set(numeric_features) - set(ordinal_features_reg))\n",
    "\n",
    "ordering = ['Po', 'Fa', 'TA', 'Gd', 'Ex']"
   ]
  },
  {
   "cell_type": "code",
   "execution_count": 6,
   "metadata": {},
   "outputs": [],
   "source": [
    "numeric_preprocessing = make_pipeline(SimpleImputer(strategy='median'), \n",
    "                                      StandardScaler())\n",
    "ordinal_preprocessing = make_pipeline(SimpleImputer(strategy='most_frequent'), \n",
    "                                      OrdinalEncoder(categories=[ordering]*len(ordinal_features_reg)))\n",
    "categorical_preprocessing = make_pipeline(SimpleImputer(strategy='constant', fill_value=\"?\"),\n",
    "                                          OneHotEncoder(handle_unknown='ignore', sparse=False))"
   ]
  },
  {
   "cell_type": "code",
   "execution_count": 7,
   "metadata": {},
   "outputs": [],
   "source": [
    "preprocessing = ColumnTransformer([\n",
    "    ('numeric', numeric_preprocessing, numeric_features),\n",
    "    ('ordinal', ordinal_preprocessing, ordinal_features_reg),\n",
    "    ('categorical', categorical_preprocessing, categorical_features)\n",
    "])"
   ]
  },
  {
   "cell_type": "code",
   "execution_count": 8,
   "metadata": {},
   "outputs": [],
   "source": [
    "preprocessing.fit(X_train);"
   ]
  },
  {
   "cell_type": "code",
   "execution_count": 9,
   "metadata": {},
   "outputs": [],
   "source": [
    "ohe_columns = list(preprocessing.named_transformers_['categorical'].named_steps['onehotencoder'].get_feature_names(categorical_features))\n",
    "new_columns = numeric_features + ordinal_features_reg + ohe_columns"
   ]
  },
  {
   "cell_type": "code",
   "execution_count": 10,
   "metadata": {},
   "outputs": [
    {
     "data": {
      "text/html": [
       "<div>\n",
       "<style scoped>\n",
       "    .dataframe tbody tr th:only-of-type {\n",
       "        vertical-align: middle;\n",
       "    }\n",
       "\n",
       "    .dataframe tbody tr th {\n",
       "        vertical-align: top;\n",
       "    }\n",
       "\n",
       "    .dataframe thead th {\n",
       "        text-align: right;\n",
       "    }\n",
       "</style>\n",
       "<table border=\"1\" class=\"dataframe\">\n",
       "  <thead>\n",
       "    <tr style=\"text-align: right;\">\n",
       "      <th></th>\n",
       "      <th>LotFrontage</th>\n",
       "      <th>LotArea</th>\n",
       "      <th>OverallQual</th>\n",
       "      <th>OverallCond</th>\n",
       "      <th>YearBuilt</th>\n",
       "      <th>YearRemodAdd</th>\n",
       "      <th>MasVnrArea</th>\n",
       "      <th>BsmtFinSF1</th>\n",
       "      <th>BsmtFinSF2</th>\n",
       "      <th>BsmtUnfSF</th>\n",
       "      <th>...</th>\n",
       "      <th>Exterior1st_Wd Sdng</th>\n",
       "      <th>Exterior1st_WdShing</th>\n",
       "      <th>BedroomAbvGr_0</th>\n",
       "      <th>BedroomAbvGr_1</th>\n",
       "      <th>BedroomAbvGr_2</th>\n",
       "      <th>BedroomAbvGr_3</th>\n",
       "      <th>BedroomAbvGr_4</th>\n",
       "      <th>BedroomAbvGr_5</th>\n",
       "      <th>BedroomAbvGr_6</th>\n",
       "      <th>BedroomAbvGr_8</th>\n",
       "    </tr>\n",
       "    <tr>\n",
       "      <th>Id</th>\n",
       "      <th></th>\n",
       "      <th></th>\n",
       "      <th></th>\n",
       "      <th></th>\n",
       "      <th></th>\n",
       "      <th></th>\n",
       "      <th></th>\n",
       "      <th></th>\n",
       "      <th></th>\n",
       "      <th></th>\n",
       "      <th></th>\n",
       "      <th></th>\n",
       "      <th></th>\n",
       "      <th></th>\n",
       "      <th></th>\n",
       "      <th></th>\n",
       "      <th></th>\n",
       "      <th></th>\n",
       "      <th></th>\n",
       "      <th></th>\n",
       "      <th></th>\n",
       "    </tr>\n",
       "  </thead>\n",
       "  <tbody>\n",
       "    <tr>\n",
       "      <th>1447</th>\n",
       "      <td>-0.046315</td>\n",
       "      <td>1.654400</td>\n",
       "      <td>-0.775646</td>\n",
       "      <td>1.255836</td>\n",
       "      <td>-0.282035</td>\n",
       "      <td>-1.105566</td>\n",
       "      <td>0.491436</td>\n",
       "      <td>0.327430</td>\n",
       "      <td>-0.284980</td>\n",
       "      <td>0.064219</td>\n",
       "      <td>...</td>\n",
       "      <td>0.0</td>\n",
       "      <td>0.0</td>\n",
       "      <td>0.0</td>\n",
       "      <td>0.0</td>\n",
       "      <td>0.0</td>\n",
       "      <td>1.0</td>\n",
       "      <td>0.0</td>\n",
       "      <td>0.0</td>\n",
       "      <td>0.0</td>\n",
       "      <td>0.0</td>\n",
       "    </tr>\n",
       "    <tr>\n",
       "      <th>1124</th>\n",
       "      <td>-0.888437</td>\n",
       "      <td>-0.093394</td>\n",
       "      <td>-0.775646</td>\n",
       "      <td>3.019968</td>\n",
       "      <td>-0.773017</td>\n",
       "      <td>1.117128</td>\n",
       "      <td>-0.569906</td>\n",
       "      <td>-0.942714</td>\n",
       "      <td>-0.284980</td>\n",
       "      <td>0.297501</td>\n",
       "      <td>...</td>\n",
       "      <td>0.0</td>\n",
       "      <td>0.0</td>\n",
       "      <td>0.0</td>\n",
       "      <td>0.0</td>\n",
       "      <td>1.0</td>\n",
       "      <td>0.0</td>\n",
       "      <td>0.0</td>\n",
       "      <td>0.0</td>\n",
       "      <td>0.0</td>\n",
       "      <td>0.0</td>\n",
       "    </tr>\n",
       "    <tr>\n",
       "      <th>187</th>\n",
       "      <td>-0.046315</td>\n",
       "      <td>-0.036795</td>\n",
       "      <td>0.647021</td>\n",
       "      <td>-0.508295</td>\n",
       "      <td>0.634466</td>\n",
       "      <td>0.295697</td>\n",
       "      <td>-0.569906</td>\n",
       "      <td>0.365985</td>\n",
       "      <td>-0.284980</td>\n",
       "      <td>0.023451</td>\n",
       "      <td>...</td>\n",
       "      <td>0.0</td>\n",
       "      <td>0.0</td>\n",
       "      <td>0.0</td>\n",
       "      <td>0.0</td>\n",
       "      <td>0.0</td>\n",
       "      <td>1.0</td>\n",
       "      <td>0.0</td>\n",
       "      <td>0.0</td>\n",
       "      <td>0.0</td>\n",
       "      <td>0.0</td>\n",
       "    </tr>\n",
       "    <tr>\n",
       "      <th>1021</th>\n",
       "      <td>-0.420591</td>\n",
       "      <td>-0.342035</td>\n",
       "      <td>-1.486980</td>\n",
       "      <td>-0.508295</td>\n",
       "      <td>1.125448</td>\n",
       "      <td>0.972169</td>\n",
       "      <td>-0.569906</td>\n",
       "      <td>1.250588</td>\n",
       "      <td>-0.284980</td>\n",
       "      <td>-1.038776</td>\n",
       "      <td>...</td>\n",
       "      <td>0.0</td>\n",
       "      <td>0.0</td>\n",
       "      <td>0.0</td>\n",
       "      <td>0.0</td>\n",
       "      <td>1.0</td>\n",
       "      <td>0.0</td>\n",
       "      <td>0.0</td>\n",
       "      <td>0.0</td>\n",
       "      <td>0.0</td>\n",
       "      <td>0.0</td>\n",
       "    </tr>\n",
       "    <tr>\n",
       "      <th>68</th>\n",
       "      <td>0.140824</td>\n",
       "      <td>0.038184</td>\n",
       "      <td>0.647021</td>\n",
       "      <td>-0.508295</td>\n",
       "      <td>1.059984</td>\n",
       "      <td>0.875531</td>\n",
       "      <td>0.367894</td>\n",
       "      <td>1.227027</td>\n",
       "      <td>-0.284980</td>\n",
       "      <td>-0.286837</td>\n",
       "      <td>...</td>\n",
       "      <td>0.0</td>\n",
       "      <td>0.0</td>\n",
       "      <td>0.0</td>\n",
       "      <td>0.0</td>\n",
       "      <td>0.0</td>\n",
       "      <td>1.0</td>\n",
       "      <td>0.0</td>\n",
       "      <td>0.0</td>\n",
       "      <td>0.0</td>\n",
       "      <td>0.0</td>\n",
       "    </tr>\n",
       "    <tr>\n",
       "      <th>...</th>\n",
       "      <td>...</td>\n",
       "      <td>...</td>\n",
       "      <td>...</td>\n",
       "      <td>...</td>\n",
       "      <td>...</td>\n",
       "      <td>...</td>\n",
       "      <td>...</td>\n",
       "      <td>...</td>\n",
       "      <td>...</td>\n",
       "      <td>...</td>\n",
       "      <td>...</td>\n",
       "      <td>...</td>\n",
       "      <td>...</td>\n",
       "      <td>...</td>\n",
       "      <td>...</td>\n",
       "      <td>...</td>\n",
       "      <td>...</td>\n",
       "      <td>...</td>\n",
       "      <td>...</td>\n",
       "      <td>...</td>\n",
       "      <td>...</td>\n",
       "    </tr>\n",
       "    <tr>\n",
       "      <th>1042</th>\n",
       "      <td>-0.046315</td>\n",
       "      <td>-0.122111</td>\n",
       "      <td>-0.064312</td>\n",
       "      <td>2.137902</td>\n",
       "      <td>-0.151106</td>\n",
       "      <td>0.730572</td>\n",
       "      <td>0.845217</td>\n",
       "      <td>-0.085956</td>\n",
       "      <td>0.100152</td>\n",
       "      <td>-0.522384</td>\n",
       "      <td>...</td>\n",
       "      <td>0.0</td>\n",
       "      <td>0.0</td>\n",
       "      <td>0.0</td>\n",
       "      <td>0.0</td>\n",
       "      <td>0.0</td>\n",
       "      <td>0.0</td>\n",
       "      <td>1.0</td>\n",
       "      <td>0.0</td>\n",
       "      <td>0.0</td>\n",
       "      <td>0.0</td>\n",
       "    </tr>\n",
       "    <tr>\n",
       "      <th>1123</th>\n",
       "      <td>-0.046315</td>\n",
       "      <td>-0.143414</td>\n",
       "      <td>-1.486980</td>\n",
       "      <td>-2.272427</td>\n",
       "      <td>-0.478428</td>\n",
       "      <td>-1.395483</td>\n",
       "      <td>-0.569906</td>\n",
       "      <td>-0.942714</td>\n",
       "      <td>-0.284980</td>\n",
       "      <td>0.238615</td>\n",
       "      <td>...</td>\n",
       "      <td>0.0</td>\n",
       "      <td>0.0</td>\n",
       "      <td>0.0</td>\n",
       "      <td>0.0</td>\n",
       "      <td>0.0</td>\n",
       "      <td>1.0</td>\n",
       "      <td>0.0</td>\n",
       "      <td>0.0</td>\n",
       "      <td>0.0</td>\n",
       "      <td>0.0</td>\n",
       "    </tr>\n",
       "    <tr>\n",
       "      <th>1347</th>\n",
       "      <td>-0.046315</td>\n",
       "      <td>1.094567</td>\n",
       "      <td>0.647021</td>\n",
       "      <td>1.255836</td>\n",
       "      <td>-0.085642</td>\n",
       "      <td>0.875531</td>\n",
       "      <td>-0.569906</td>\n",
       "      <td>-0.306571</td>\n",
       "      <td>0.124223</td>\n",
       "      <td>1.441264</td>\n",
       "      <td>...</td>\n",
       "      <td>0.0</td>\n",
       "      <td>0.0</td>\n",
       "      <td>0.0</td>\n",
       "      <td>0.0</td>\n",
       "      <td>0.0</td>\n",
       "      <td>1.0</td>\n",
       "      <td>0.0</td>\n",
       "      <td>0.0</td>\n",
       "      <td>0.0</td>\n",
       "      <td>0.0</td>\n",
       "    </tr>\n",
       "    <tr>\n",
       "      <th>1407</th>\n",
       "      <td>0.047255</td>\n",
       "      <td>-0.193644</td>\n",
       "      <td>-0.775646</td>\n",
       "      <td>1.255836</td>\n",
       "      <td>0.045287</td>\n",
       "      <td>1.068808</td>\n",
       "      <td>-0.569906</td>\n",
       "      <td>0.462370</td>\n",
       "      <td>-0.284980</td>\n",
       "      <td>-1.029716</td>\n",
       "      <td>...</td>\n",
       "      <td>0.0</td>\n",
       "      <td>0.0</td>\n",
       "      <td>0.0</td>\n",
       "      <td>0.0</td>\n",
       "      <td>1.0</td>\n",
       "      <td>0.0</td>\n",
       "      <td>0.0</td>\n",
       "      <td>0.0</td>\n",
       "      <td>0.0</td>\n",
       "      <td>0.0</td>\n",
       "    </tr>\n",
       "    <tr>\n",
       "      <th>1390</th>\n",
       "      <td>-0.420591</td>\n",
       "      <td>-0.448968</td>\n",
       "      <td>-0.064312</td>\n",
       "      <td>0.373770</td>\n",
       "      <td>-0.969410</td>\n",
       "      <td>-1.685400</td>\n",
       "      <td>-0.569906</td>\n",
       "      <td>-0.139503</td>\n",
       "      <td>-0.284980</td>\n",
       "      <td>-0.468027</td>\n",
       "      <td>...</td>\n",
       "      <td>1.0</td>\n",
       "      <td>0.0</td>\n",
       "      <td>0.0</td>\n",
       "      <td>0.0</td>\n",
       "      <td>0.0</td>\n",
       "      <td>1.0</td>\n",
       "      <td>0.0</td>\n",
       "      <td>0.0</td>\n",
       "      <td>0.0</td>\n",
       "      <td>0.0</td>\n",
       "    </tr>\n",
       "  </tbody>\n",
       "</table>\n",
       "<p>1095 rows × 292 columns</p>\n",
       "</div>"
      ],
      "text/plain": [
       "      LotFrontage   LotArea  OverallQual  OverallCond  YearBuilt  \\\n",
       "Id                                                                 \n",
       "1447    -0.046315  1.654400    -0.775646     1.255836  -0.282035   \n",
       "1124    -0.888437 -0.093394    -0.775646     3.019968  -0.773017   \n",
       "187     -0.046315 -0.036795     0.647021    -0.508295   0.634466   \n",
       "1021    -0.420591 -0.342035    -1.486980    -0.508295   1.125448   \n",
       "68       0.140824  0.038184     0.647021    -0.508295   1.059984   \n",
       "...           ...       ...          ...          ...        ...   \n",
       "1042    -0.046315 -0.122111    -0.064312     2.137902  -0.151106   \n",
       "1123    -0.046315 -0.143414    -1.486980    -2.272427  -0.478428   \n",
       "1347    -0.046315  1.094567     0.647021     1.255836  -0.085642   \n",
       "1407     0.047255 -0.193644    -0.775646     1.255836   0.045287   \n",
       "1390    -0.420591 -0.448968    -0.064312     0.373770  -0.969410   \n",
       "\n",
       "      YearRemodAdd  MasVnrArea  BsmtFinSF1  BsmtFinSF2  BsmtUnfSF  ...  \\\n",
       "Id                                                                 ...   \n",
       "1447     -1.105566    0.491436    0.327430   -0.284980   0.064219  ...   \n",
       "1124      1.117128   -0.569906   -0.942714   -0.284980   0.297501  ...   \n",
       "187       0.295697   -0.569906    0.365985   -0.284980   0.023451  ...   \n",
       "1021      0.972169   -0.569906    1.250588   -0.284980  -1.038776  ...   \n",
       "68        0.875531    0.367894    1.227027   -0.284980  -0.286837  ...   \n",
       "...            ...         ...         ...         ...        ...  ...   \n",
       "1042      0.730572    0.845217   -0.085956    0.100152  -0.522384  ...   \n",
       "1123     -1.395483   -0.569906   -0.942714   -0.284980   0.238615  ...   \n",
       "1347      0.875531   -0.569906   -0.306571    0.124223   1.441264  ...   \n",
       "1407      1.068808   -0.569906    0.462370   -0.284980  -1.029716  ...   \n",
       "1390     -1.685400   -0.569906   -0.139503   -0.284980  -0.468027  ...   \n",
       "\n",
       "      Exterior1st_Wd Sdng  Exterior1st_WdShing  BedroomAbvGr_0  \\\n",
       "Id                                                               \n",
       "1447                  0.0                  0.0             0.0   \n",
       "1124                  0.0                  0.0             0.0   \n",
       "187                   0.0                  0.0             0.0   \n",
       "1021                  0.0                  0.0             0.0   \n",
       "68                    0.0                  0.0             0.0   \n",
       "...                   ...                  ...             ...   \n",
       "1042                  0.0                  0.0             0.0   \n",
       "1123                  0.0                  0.0             0.0   \n",
       "1347                  0.0                  0.0             0.0   \n",
       "1407                  0.0                  0.0             0.0   \n",
       "1390                  1.0                  0.0             0.0   \n",
       "\n",
       "      BedroomAbvGr_1  BedroomAbvGr_2  BedroomAbvGr_3  BedroomAbvGr_4  \\\n",
       "Id                                                                     \n",
       "1447             0.0             0.0             1.0             0.0   \n",
       "1124             0.0             1.0             0.0             0.0   \n",
       "187              0.0             0.0             1.0             0.0   \n",
       "1021             0.0             1.0             0.0             0.0   \n",
       "68               0.0             0.0             1.0             0.0   \n",
       "...              ...             ...             ...             ...   \n",
       "1042             0.0             0.0             0.0             1.0   \n",
       "1123             0.0             0.0             1.0             0.0   \n",
       "1347             0.0             0.0             1.0             0.0   \n",
       "1407             0.0             1.0             0.0             0.0   \n",
       "1390             0.0             0.0             1.0             0.0   \n",
       "\n",
       "      BedroomAbvGr_5  BedroomAbvGr_6  BedroomAbvGr_8  \n",
       "Id                                                    \n",
       "1447             0.0             0.0             0.0  \n",
       "1124             0.0             0.0             0.0  \n",
       "187              0.0             0.0             0.0  \n",
       "1021             0.0             0.0             0.0  \n",
       "68               0.0             0.0             0.0  \n",
       "...              ...             ...             ...  \n",
       "1042             0.0             0.0             0.0  \n",
       "1123             0.0             0.0             0.0  \n",
       "1347             0.0             0.0             0.0  \n",
       "1407             0.0             0.0             0.0  \n",
       "1390             0.0             0.0             0.0  \n",
       "\n",
       "[1095 rows x 292 columns]"
      ]
     },
     "execution_count": 10,
     "metadata": {},
     "output_type": "execute_result"
    }
   ],
   "source": [
    "X_train_enc = pd.DataFrame(preprocessing.transform(X_train), index=X_train.index, columns=new_columns)\n",
    "X_train_enc"
   ]
  },
  {
   "cell_type": "code",
   "execution_count": 11,
   "metadata": {},
   "outputs": [],
   "source": [
    "X_test_enc = pd.DataFrame(preprocessing.transform(X_test), index=X_test.index, columns=new_columns)"
   ]
  },
  {
   "cell_type": "markdown",
   "metadata": {},
   "source": [
    "## Feature correlations (10 min)\n",
    "\n",
    "(This should probably have gone in the feature importances lecture, L10.)"
   ]
  },
  {
   "cell_type": "markdown",
   "metadata": {},
   "source": [
    "- We'll look at the correlations between various features with other features and the target (first row/column). \n",
    "- What is correlation, in simple terms:\n",
    "  - If $Y$ goes up when $X$ goes up, we say $X$ and $Y$ are positively correlated.\n",
    "  - If $Y$ goes down when $X$ goes up, we say $X$ and $Y$ are negatively correlated.\n",
    "  - If $Y$ is unchanged when $X$ changes, we say $X$ and $Y$ are uncorrelated."
   ]
  },
  {
   "cell_type": "code",
   "execution_count": 14,
   "metadata": {
    "slideshow": {
     "slide_type": "slide"
    }
   },
   "outputs": [],
   "source": [
    "cor = pd.concat((y_train, X_train_enc),axis=1).iloc[:,:15].corr();"
   ]
  },
  {
   "cell_type": "code",
   "execution_count": 15,
   "metadata": {
    "slideshow": {
     "slide_type": "slide"
    }
   },
   "outputs": [
    {
     "data": {
      "image/png": "[encoded data removed]",
      "text/plain": [
       "<Figure size 1080x1080 with 2 Axes>"
      ]
     },
     "metadata": {},
     "output_type": "display_data"
    }
   ],
   "source": [
    "plt.figure(figsize=(15,15))\n",
    "sns.set(font_scale=1)\n",
    "sns.heatmap(cor, annot=True, cmap=plt.cm.Blues);"
   ]
  },
  {
   "cell_type": "markdown",
   "metadata": {},
   "source": [
    "Note: we got similar diagrams from `pandas_profiler`. "
   ]
  },
  {
   "cell_type": "markdown",
   "metadata": {},
   "source": [
    "- We can immediately see that `SalePrice` is highly correlated with `OverallQual`.\n",
    "- This is an early hint that `OverallQual` is a useful feature in predicting `SalePrice`.\n",
    "- However, this approach is **extremely simplistic**.\n",
    "  - It only looks at each feature in isolation.\n",
    "  - It only looks at linear associations:\n",
    "    - What if `SalePrice` is high when `BsmtFullBath` is 2 or 3, but low when it's 0, 1, or 4? They might seem uncorrelated."
   ]
  },
  {
   "cell_type": "markdown",
   "metadata": {},
   "source": [
    "- Looking at this diagram also tells us the relationship between features. \n",
    "  - For example, `1stFlrSF` and `TotalBsmtSF` are highly correlated. \n",
    "  - Do we need both of them?\n",
    "  - If our model says `1stFlrSF` is very important and `TotalBsmtSF` is very unimportant, do we trust those values?\n",
    "  - Maybe `TotalBsmtSF` only \"becomes important\" if `1stFlrSF` is removed.\n",
    "  - Sometimes the opposite happens: a feature only becomes important if another feature is _added_."
   ]
  },
  {
   "cell_type": "markdown",
   "metadata": {
    "slideshow": {
     "slide_type": "slide"
    }
   },
   "source": [
    "## Feature selection intro (5 min)\n",
    "\n",
    "- What is feature selection?\n",
    "- Find the features\t(columns) $X$ that are important for predicting\t$y$, and remove the features that aren't. \n",
    "- Very related to looking at feature importances."
   ]
  },
  {
   "cell_type": "code",
   "execution_count": null,
   "metadata": {},
   "outputs": [],
   "source": [
    "df_train.columns"
   ]
  },
  {
   "cell_type": "markdown",
   "metadata": {},
   "source": [
    "Which of these features are useful?"
   ]
  },
  {
   "cell_type": "markdown",
   "metadata": {},
   "source": [
    "Why we might want to ask this? Why not just use all of them, even the fairly unimportant ones?\n",
    "\n",
    "- Data collection: What type of new data should I collect? It may be cheaper to collect fewer columns.\n",
    "- Computation: Models fit/predict faster with fewer columns.\n",
    "- Fundamental tradeoff: Can I reduce overfitting by removing useless features?\n",
    "  - Think about the random noise column in hw5.\n",
    "  - What does it do to training error?\n",
    "  - What does it do to validation error?"
   ]
  },
  {
   "cell_type": "markdown",
   "metadata": {},
   "source": [
    "How to do feature selection? The main approaches I will recommend in this course:\n",
    "\n",
    "1. Domain knowledge\n",
    "2. Importance-based feature elimination\n",
    "\n",
    "Removed from the course: lasso"
   ]
  },
  {
   "cell_type": "code",
   "execution_count": null,
   "metadata": {},
   "outputs": [],
   "source": []
  },
  {
   "cell_type": "code",
   "execution_count": null,
   "metadata": {},
   "outputs": [],
   "source": []
  },
  {
   "cell_type": "markdown",
   "metadata": {
    "slideshow": {
     "slide_type": "slide"
    }
   },
   "source": [
    "## Feature selection: importance-based feature elimination (15 min)\n",
    "\n",
    "- We already had a whole lecture on feature importances.\n",
    "- Let's use these importances to eliminate unimportant features (i.e., those with low importance).\n",
    "- Basic idea: throw away the least important feature."
   ]
  },
  {
   "cell_type": "markdown",
   "metadata": {
    "slideshow": {
     "slide_type": "slide"
    }
   },
   "source": [
    "#### Recursive feature elimination \n",
    "\n",
    "1. Decide $k$, the number of features to select. \n",
    "2. Assign importances to features, e.g. by fitting a model and looking at `coef_` or `feature_importances_`.\n",
    "3. Remove the least important feature.\n",
    "4. Repeat steps 2-3 until only $k$ features are remaining.\n",
    "\n",
    "Note that this is **not** the same as just removing all the less important features in one shot!\n"
   ]
  },
  {
   "cell_type": "markdown",
   "metadata": {},
   "source": [
    "In scikit-learn, we'll do this using `RFE`:"
   ]
  },
  {
   "cell_type": "code",
   "execution_count": 16,
   "metadata": {},
   "outputs": [],
   "source": [
    "from sklearn.feature_selection import RFE"
   ]
  },
  {
   "cell_type": "markdown",
   "metadata": {
    "slideshow": {
     "slide_type": "slide"
    }
   },
   "source": [
    "Let's look at the [documentation](https://scikit-learn.org/stable/modules/generated/sklearn.feature_selection.RFE.html).\n",
    "\n",
    "- **Note**: `RFE` not currently set up to work well with `Pipeline` or `TransformedTargetRegressor` !!\n",
    "- See https://github.com/scikit-learn/scikit-learn/issues/15154, https://github.com/scikit-learn/scikit-learn/issues/9606, https://github.com/scikit-learn/scikit-learn/issues/15312"
   ]
  },
  {
   "cell_type": "code",
   "execution_count": 17,
   "metadata": {},
   "outputs": [],
   "source": [
    "y_train_log = np.log(y_train)\n",
    "y_test_log = np.log(y_test)"
   ]
  },
  {
   "cell_type": "code",
   "execution_count": 18,
   "metadata": {},
   "outputs": [
    {
     "data": {
      "text/plain": [
       "292"
      ]
     },
     "execution_count": 18,
     "metadata": {},
     "output_type": "execute_result"
    }
   ],
   "source": [
    "len(X_train_enc.columns)"
   ]
  },
  {
   "cell_type": "code",
   "execution_count": 19,
   "metadata": {},
   "outputs": [
    {
     "data": {
      "text/html": [
       "<div>\n",
       "<style scoped>\n",
       "    .dataframe tbody tr th:only-of-type {\n",
       "        vertical-align: middle;\n",
       "    }\n",
       "\n",
       "    .dataframe tbody tr th {\n",
       "        vertical-align: top;\n",
       "    }\n",
       "\n",
       "    .dataframe thead th {\n",
       "        text-align: right;\n",
       "    }\n",
       "</style>\n",
       "<table border=\"1\" class=\"dataframe\">\n",
       "  <thead>\n",
       "    <tr style=\"text-align: right;\">\n",
       "      <th></th>\n",
       "      <th>LotFrontage</th>\n",
       "      <th>LotArea</th>\n",
       "      <th>OverallQual</th>\n",
       "      <th>OverallCond</th>\n",
       "      <th>YearBuilt</th>\n",
       "      <th>YearRemodAdd</th>\n",
       "      <th>MasVnrArea</th>\n",
       "      <th>BsmtFinSF1</th>\n",
       "      <th>BsmtFinSF2</th>\n",
       "      <th>BsmtUnfSF</th>\n",
       "      <th>...</th>\n",
       "      <th>Exterior1st_Wd Sdng</th>\n",
       "      <th>Exterior1st_WdShing</th>\n",
       "      <th>BedroomAbvGr_0</th>\n",
       "      <th>BedroomAbvGr_1</th>\n",
       "      <th>BedroomAbvGr_2</th>\n",
       "      <th>BedroomAbvGr_3</th>\n",
       "      <th>BedroomAbvGr_4</th>\n",
       "      <th>BedroomAbvGr_5</th>\n",
       "      <th>BedroomAbvGr_6</th>\n",
       "      <th>BedroomAbvGr_8</th>\n",
       "    </tr>\n",
       "    <tr>\n",
       "      <th>Id</th>\n",
       "      <th></th>\n",
       "      <th></th>\n",
       "      <th></th>\n",
       "      <th></th>\n",
       "      <th></th>\n",
       "      <th></th>\n",
       "      <th></th>\n",
       "      <th></th>\n",
       "      <th></th>\n",
       "      <th></th>\n",
       "      <th></th>\n",
       "      <th></th>\n",
       "      <th></th>\n",
       "      <th></th>\n",
       "      <th></th>\n",
       "      <th></th>\n",
       "      <th></th>\n",
       "      <th></th>\n",
       "      <th></th>\n",
       "      <th></th>\n",
       "      <th></th>\n",
       "    </tr>\n",
       "  </thead>\n",
       "  <tbody>\n",
       "    <tr>\n",
       "      <th>1447</th>\n",
       "      <td>-0.046315</td>\n",
       "      <td>1.654400</td>\n",
       "      <td>-0.775646</td>\n",
       "      <td>1.255836</td>\n",
       "      <td>-0.282035</td>\n",
       "      <td>-1.105566</td>\n",
       "      <td>0.491436</td>\n",
       "      <td>0.327430</td>\n",
       "      <td>-0.28498</td>\n",
       "      <td>0.064219</td>\n",
       "      <td>...</td>\n",
       "      <td>0.0</td>\n",
       "      <td>0.0</td>\n",
       "      <td>0.0</td>\n",
       "      <td>0.0</td>\n",
       "      <td>0.0</td>\n",
       "      <td>1.0</td>\n",
       "      <td>0.0</td>\n",
       "      <td>0.0</td>\n",
       "      <td>0.0</td>\n",
       "      <td>0.0</td>\n",
       "    </tr>\n",
       "    <tr>\n",
       "      <th>1124</th>\n",
       "      <td>-0.888437</td>\n",
       "      <td>-0.093394</td>\n",
       "      <td>-0.775646</td>\n",
       "      <td>3.019968</td>\n",
       "      <td>-0.773017</td>\n",
       "      <td>1.117128</td>\n",
       "      <td>-0.569906</td>\n",
       "      <td>-0.942714</td>\n",
       "      <td>-0.28498</td>\n",
       "      <td>0.297501</td>\n",
       "      <td>...</td>\n",
       "      <td>0.0</td>\n",
       "      <td>0.0</td>\n",
       "      <td>0.0</td>\n",
       "      <td>0.0</td>\n",
       "      <td>1.0</td>\n",
       "      <td>0.0</td>\n",
       "      <td>0.0</td>\n",
       "      <td>0.0</td>\n",
       "      <td>0.0</td>\n",
       "      <td>0.0</td>\n",
       "    </tr>\n",
       "    <tr>\n",
       "      <th>187</th>\n",
       "      <td>-0.046315</td>\n",
       "      <td>-0.036795</td>\n",
       "      <td>0.647021</td>\n",
       "      <td>-0.508295</td>\n",
       "      <td>0.634466</td>\n",
       "      <td>0.295697</td>\n",
       "      <td>-0.569906</td>\n",
       "      <td>0.365985</td>\n",
       "      <td>-0.28498</td>\n",
       "      <td>0.023451</td>\n",
       "      <td>...</td>\n",
       "      <td>0.0</td>\n",
       "      <td>0.0</td>\n",
       "      <td>0.0</td>\n",
       "      <td>0.0</td>\n",
       "      <td>0.0</td>\n",
       "      <td>1.0</td>\n",
       "      <td>0.0</td>\n",
       "      <td>0.0</td>\n",
       "      <td>0.0</td>\n",
       "      <td>0.0</td>\n",
       "    </tr>\n",
       "    <tr>\n",
       "      <th>1021</th>\n",
       "      <td>-0.420591</td>\n",
       "      <td>-0.342035</td>\n",
       "      <td>-1.486980</td>\n",
       "      <td>-0.508295</td>\n",
       "      <td>1.125448</td>\n",
       "      <td>0.972169</td>\n",
       "      <td>-0.569906</td>\n",
       "      <td>1.250588</td>\n",
       "      <td>-0.28498</td>\n",
       "      <td>-1.038776</td>\n",
       "      <td>...</td>\n",
       "      <td>0.0</td>\n",
       "      <td>0.0</td>\n",
       "      <td>0.0</td>\n",
       "      <td>0.0</td>\n",
       "      <td>1.0</td>\n",
       "      <td>0.0</td>\n",
       "      <td>0.0</td>\n",
       "      <td>0.0</td>\n",
       "      <td>0.0</td>\n",
       "      <td>0.0</td>\n",
       "    </tr>\n",
       "    <tr>\n",
       "      <th>68</th>\n",
       "      <td>0.140824</td>\n",
       "      <td>0.038184</td>\n",
       "      <td>0.647021</td>\n",
       "      <td>-0.508295</td>\n",
       "      <td>1.059984</td>\n",
       "      <td>0.875531</td>\n",
       "      <td>0.367894</td>\n",
       "      <td>1.227027</td>\n",
       "      <td>-0.28498</td>\n",
       "      <td>-0.286837</td>\n",
       "      <td>...</td>\n",
       "      <td>0.0</td>\n",
       "      <td>0.0</td>\n",
       "      <td>0.0</td>\n",
       "      <td>0.0</td>\n",
       "      <td>0.0</td>\n",
       "      <td>1.0</td>\n",
       "      <td>0.0</td>\n",
       "      <td>0.0</td>\n",
       "      <td>0.0</td>\n",
       "      <td>0.0</td>\n",
       "    </tr>\n",
       "  </tbody>\n",
       "</table>\n",
       "<p>5 rows × 292 columns</p>\n",
       "</div>"
      ],
      "text/plain": [
       "      LotFrontage   LotArea  OverallQual  OverallCond  YearBuilt  \\\n",
       "Id                                                                 \n",
       "1447    -0.046315  1.654400    -0.775646     1.255836  -0.282035   \n",
       "1124    -0.888437 -0.093394    -0.775646     3.019968  -0.773017   \n",
       "187     -0.046315 -0.036795     0.647021    -0.508295   0.634466   \n",
       "1021    -0.420591 -0.342035    -1.486980    -0.508295   1.125448   \n",
       "68       0.140824  0.038184     0.647021    -0.508295   1.059984   \n",
       "\n",
       "      YearRemodAdd  MasVnrArea  BsmtFinSF1  BsmtFinSF2  BsmtUnfSF  ...  \\\n",
       "Id                                                                 ...   \n",
       "1447     -1.105566    0.491436    0.327430    -0.28498   0.064219  ...   \n",
       "1124      1.117128   -0.569906   -0.942714    -0.28498   0.297501  ...   \n",
       "187       0.295697   -0.569906    0.365985    -0.28498   0.023451  ...   \n",
       "1021      0.972169   -0.569906    1.250588    -0.28498  -1.038776  ...   \n",
       "68        0.875531    0.367894    1.227027    -0.28498  -0.286837  ...   \n",
       "\n",
       "      Exterior1st_Wd Sdng  Exterior1st_WdShing  BedroomAbvGr_0  \\\n",
       "Id                                                               \n",
       "1447                  0.0                  0.0             0.0   \n",
       "1124                  0.0                  0.0             0.0   \n",
       "187                   0.0                  0.0             0.0   \n",
       "1021                  0.0                  0.0             0.0   \n",
       "68                    0.0                  0.0             0.0   \n",
       "\n",
       "      BedroomAbvGr_1  BedroomAbvGr_2  BedroomAbvGr_3  BedroomAbvGr_4  \\\n",
       "Id                                                                     \n",
       "1447             0.0             0.0             1.0             0.0   \n",
       "1124             0.0             1.0             0.0             0.0   \n",
       "187              0.0             0.0             1.0             0.0   \n",
       "1021             0.0             1.0             0.0             0.0   \n",
       "68               0.0             0.0             1.0             0.0   \n",
       "\n",
       "      BedroomAbvGr_5  BedroomAbvGr_6  BedroomAbvGr_8  \n",
       "Id                                                    \n",
       "1447             0.0             0.0             0.0  \n",
       "1124             0.0             0.0             0.0  \n",
       "187              0.0             0.0             0.0  \n",
       "1021             0.0             0.0             0.0  \n",
       "68               0.0             0.0             0.0  \n",
       "\n",
       "[5 rows x 292 columns]"
      ]
     },
     "execution_count": 19,
     "metadata": {},
     "output_type": "execute_result"
    }
   ],
   "source": [
    "X_train_enc.head()"
   ]
  },
  {
   "cell_type": "code",
   "execution_count": 20,
   "metadata": {},
   "outputs": [],
   "source": [
    "lr = Ridge(alpha=100)"
   ]
  },
  {
   "cell_type": "code",
   "execution_count": 21,
   "metadata": {},
   "outputs": [
    {
     "data": {
      "text/plain": [
       "fit_time           0.010989\n",
       "score_time         0.005164\n",
       "test_score         0.856698\n",
       "train_score        0.898979\n",
       "std_test_score     0.096162\n",
       "std_train_score    0.005990\n",
       "dtype: float64"
      ]
     },
     "execution_count": 21,
     "metadata": {},
     "output_type": "execute_result"
    }
   ],
   "source": [
    "cross_validate_std(lr, X_train_enc, y_train_log, return_train_score=True, cv=10)"
   ]
  },
  {
   "cell_type": "code",
   "execution_count": 22,
   "metadata": {},
   "outputs": [],
   "source": [
    "lr.fit(X_train_enc, y_train_log);"
   ]
  },
  {
   "cell_type": "code",
   "execution_count": 38,
   "metadata": {},
   "outputs": [
    {
     "data": {
      "text/plain": [
       "0.8981098599473102"
      ]
     },
     "execution_count": 38,
     "metadata": {},
     "output_type": "execute_result"
    }
   ],
   "source": [
    "lr.score(X_train_enc, y_train_log)"
   ]
  },
  {
   "cell_type": "code",
   "execution_count": 23,
   "metadata": {},
   "outputs": [
    {
     "data": {
      "text/plain": [
       "0.9051318521975947"
      ]
     },
     "execution_count": 23,
     "metadata": {},
     "output_type": "execute_result"
    }
   ],
   "source": [
    "lr.score(X_test_enc, y_test_log)"
   ]
  },
  {
   "cell_type": "code",
   "execution_count": 24,
   "metadata": {},
   "outputs": [
    {
     "data": {
      "text/plain": [
       "(365, 292)"
      ]
     },
     "execution_count": 24,
     "metadata": {},
     "output_type": "execute_result"
    }
   ],
   "source": [
    "X_test_enc.shape"
   ]
  },
  {
   "cell_type": "code",
   "execution_count": 40,
   "metadata": {},
   "outputs": [
    {
     "data": {
      "text/html": [
       "<div>\n",
       "<style scoped>\n",
       "    .dataframe tbody tr th:only-of-type {\n",
       "        vertical-align: middle;\n",
       "    }\n",
       "\n",
       "    .dataframe tbody tr th {\n",
       "        vertical-align: top;\n",
       "    }\n",
       "\n",
       "    .dataframe thead th {\n",
       "        text-align: right;\n",
       "    }\n",
       "</style>\n",
       "<table border=\"1\" class=\"dataframe\">\n",
       "  <thead>\n",
       "    <tr style=\"text-align: right;\">\n",
       "      <th></th>\n",
       "      <th>Coefficients</th>\n",
       "    </tr>\n",
       "  </thead>\n",
       "  <tbody>\n",
       "    <tr>\n",
       "      <th>OverallQual</th>\n",
       "      <td>0.079477</td>\n",
       "    </tr>\n",
       "    <tr>\n",
       "      <th>GarageCars</th>\n",
       "      <td>0.044766</td>\n",
       "    </tr>\n",
       "    <tr>\n",
       "      <th>GrLivArea</th>\n",
       "      <td>0.043596</td>\n",
       "    </tr>\n",
       "    <tr>\n",
       "      <th>OverallCond</th>\n",
       "      <td>0.040942</td>\n",
       "    </tr>\n",
       "    <tr>\n",
       "      <th>BsmtQual</th>\n",
       "      <td>0.035982</td>\n",
       "    </tr>\n",
       "    <tr>\n",
       "      <th>...</th>\n",
       "      <td>...</td>\n",
       "    </tr>\n",
       "    <tr>\n",
       "      <th>Exterior1st_CBlock</th>\n",
       "      <td>0.000075</td>\n",
       "    </tr>\n",
       "    <tr>\n",
       "      <th>Exterior2nd_CBlock</th>\n",
       "      <td>0.000075</td>\n",
       "    </tr>\n",
       "    <tr>\n",
       "      <th>SaleType_ConLI</th>\n",
       "      <td>0.000064</td>\n",
       "    </tr>\n",
       "    <tr>\n",
       "      <th>Exterior1st_Stone</th>\n",
       "      <td>0.000058</td>\n",
       "    </tr>\n",
       "    <tr>\n",
       "      <th>MoSold_9</th>\n",
       "      <td>0.000022</td>\n",
       "    </tr>\n",
       "  </tbody>\n",
       "</table>\n",
       "<p>292 rows × 1 columns</p>\n",
       "</div>"
      ],
      "text/plain": [
       "                    Coefficients\n",
       "OverallQual             0.079477\n",
       "GarageCars              0.044766\n",
       "GrLivArea               0.043596\n",
       "OverallCond             0.040942\n",
       "BsmtQual                0.035982\n",
       "...                          ...\n",
       "Exterior1st_CBlock      0.000075\n",
       "Exterior2nd_CBlock      0.000075\n",
       "SaleType_ConLI          0.000064\n",
       "Exterior1st_Stone       0.000058\n",
       "MoSold_9                0.000022\n",
       "\n",
       "[292 rows x 1 columns]"
      ]
     },
     "execution_count": 40,
     "metadata": {},
     "output_type": "execute_result"
    }
   ],
   "source": [
    "coef_df = pd.DataFrame(data=np.abs(lr.coef_), index=X_train_enc.columns, columns=[\"Coefficients\"]).sort_values(by=\"Coefficients\", ascending=False)\n",
    "coef_df"
   ]
  },
  {
   "cell_type": "markdown",
   "metadata": {},
   "source": [
    "Select the top 30 features, one at a time, based on the absolute value of `model.coef_`:"
   ]
  },
  {
   "cell_type": "code",
   "execution_count": 35,
   "metadata": {},
   "outputs": [],
   "source": [
    "rfe = RFE(lr, n_features_to_select=30)\n",
    "rfe.fit(X_train_enc, y_train_log);"
   ]
  },
  {
   "cell_type": "code",
   "execution_count": 36,
   "metadata": {},
   "outputs": [
    {
     "data": {
      "text/plain": [
       "0.876925559161639"
      ]
     },
     "execution_count": 36,
     "metadata": {},
     "output_type": "execute_result"
    }
   ],
   "source": [
    "rfe.score(X_train_enc, y_train_log)"
   ]
  },
  {
   "cell_type": "code",
   "execution_count": 37,
   "metadata": {},
   "outputs": [
    {
     "data": {
      "text/plain": [
       "0.8823400488225399"
      ]
     },
     "execution_count": 37,
     "metadata": {},
     "output_type": "execute_result"
    }
   ],
   "source": [
    "rfe.score(X_test_enc, y_test_log)"
   ]
  },
  {
   "cell_type": "code",
   "execution_count": 39,
   "metadata": {},
   "outputs": [
    {
     "data": {
      "text/plain": [
       "Index(['OverallQual', 'OverallCond', 'YearBuilt', 'TotalBsmtSF', '1stFlrSF',\n",
       "       '2ndFlrSF', 'GrLivArea', 'BsmtFullBath', 'TotRmsAbvGrd', 'Fireplaces',\n",
       "       'GarageCars', 'ExterQual', 'BsmtQual', 'Foundation_PConc',\n",
       "       'BsmtExposure_Gd', 'MSSubClass_30', 'MSSubClass_160',\n",
       "       'Neighborhood_Crawfor', 'Neighborhood_NridgHt', 'Neighborhood_Somerst',\n",
       "       'GarageType_Attchd', 'BsmtFinType1_Unf', 'CentralAir_N', 'CentralAir_Y',\n",
       "       'BldgType_1Fam', 'MSZoning_C (all)', 'MSZoning_RL', 'MSZoning_RM',\n",
       "       'SaleCondition_Abnorml', 'Condition1_Norm'],\n",
       "      dtype='object')"
      ]
     },
     "execution_count": 39,
     "metadata": {},
     "output_type": "execute_result"
    }
   ],
   "source": [
    "selected_columns = X_train_enc.columns[rfe.support_]\n",
    "selected_columns"
   ]
  },
  {
   "cell_type": "markdown",
   "metadata": {},
   "source": [
    "Contrast with the top 30 by the ORIGINAL importances (absolute value coefficients):"
   ]
  },
  {
   "cell_type": "code",
   "execution_count": 42,
   "metadata": {},
   "outputs": [
    {
     "data": {
      "text/plain": [
       "Index(['OverallQual', 'GarageCars', 'GrLivArea', 'OverallCond', 'BsmtQual',\n",
       "       'Neighborhood_Crawfor', 'Condition1_Norm', 'MSZoning_C (all)',\n",
       "       '1stFlrSF', 'Neighborhood_NridgHt', 'MSZoning_RL', 'TotRmsAbvGrd',\n",
       "       'Fireplaces', '2ndFlrSF', 'BldgType_1Fam', 'YearBuilt', 'MSSubClass_20',\n",
       "       'Neighborhood_Somerst', 'Foundation_PConc', 'FullBath',\n",
       "       'Neighborhood_Edwards', 'MSSubClass_30', 'BsmtFullBath',\n",
       "       'BsmtFinType1_GLQ', 'MSSubClass_160', 'Exterior1st_BrkFace',\n",
       "       'CentralAir_Y', 'CentralAir_N', 'SaleCondition_Abnorml',\n",
       "       'BsmtFinType1_Unf'],\n",
       "      dtype='object')"
      ]
     },
     "execution_count": 42,
     "metadata": {},
     "output_type": "execute_result"
    }
   ],
   "source": [
    "coef_df.iloc[:30].index"
   ]
  },
  {
   "cell_type": "code",
   "execution_count": 44,
   "metadata": {},
   "outputs": [
    {
     "data": {
      "text/plain": [
       "{'BsmtExposure_Gd',\n",
       " 'ExterQual',\n",
       " 'GarageType_Attchd',\n",
       " 'MSZoning_RM',\n",
       " 'TotalBsmtSF'}"
      ]
     },
     "execution_count": 44,
     "metadata": {},
     "output_type": "execute_result"
    }
   ],
   "source": [
    "set(selected_columns.values) - set(coef_df.iloc[:30].index.values)"
   ]
  },
  {
   "cell_type": "code",
   "execution_count": 45,
   "metadata": {},
   "outputs": [
    {
     "data": {
      "text/plain": [
       "array([129,  44,   1,   1,   1,  46, 193, 120, 104, 121,   1,   1,   1,\n",
       "       195,   1,   1, 138,  19,  20,   1,   1,  91,   1,  58,  25, 250,\n",
       "       161, 102,  26,  59, 205,  69,   1, 151,   1, 143,  11,   4,  53,\n",
       "        23,  39,  96,  68, 119,   1, 111, 256, 196, 181,  55, 148, 134,\n",
       "       157, 204, 171, 172,  93, 170, 162, 201, 126, 133, 144, 208, 251,\n",
       "        70, 145, 159, 160, 261, 241,  12, 210,  33,  38, 247,   1, 232,\n",
       "        36,   7,   1, 207, 248,  54, 178,  40, 253, 142, 214,  92, 123,\n",
       "         1,  89, 209,  29, 168,  60,  15, 149, 112, 175,  74, 113,  75,\n",
       "       114, 263,  27, 180, 203,   5,  48, 231, 192, 221, 236, 176, 259,\n",
       "       110, 234, 100, 130, 244, 122, 229,  52, 154, 198,  85,  98, 217,\n",
       "        95,  64,  66,  81,   1,   3,  45,  22,  21,  79, 197, 165,  86,\n",
       "        35,   1,  34, 255,  77,  94,   1,  14, 135, 109, 163, 139,   1,\n",
       "       153, 179, 141,  90, 202, 125,  73, 199, 140, 156, 106, 164,  50,\n",
       "       185,  61, 230, 200, 184, 103, 228, 186, 222, 215, 218, 245,   6,\n",
       "        17, 174, 252, 211, 213,  57, 183,  49, 240, 254, 233, 150, 116,\n",
       "       117,  62, 127, 239, 158, 235,  56, 128, 242,  16, 226, 155,   1,\n",
       "       137, 189, 147, 194, 216,  84, 105, 169,   1,   1,  13,  87, 225,\n",
       "       258, 257, 227,  99,  71,  63,  43, 166,  18,  41, 191, 188, 132,\n",
       "        65, 177, 212, 220,  42,   1, 167,  83,   8, 124,   1,  24, 118,\n",
       "         1,   1,   1, 246, 190, 115,  32,  31, 224,   9, 108, 243, 107,\n",
       "        51,  30,   1, 146,  88, 131, 152, 223, 238,  78,  80, 206, 249,\n",
       "         2, 260,  82, 101,  47, 187, 262,  28,  67,  37, 182, 136,  76,\n",
       "       219,  97,  10,  72, 237, 173])"
      ]
     },
     "execution_count": 45,
     "metadata": {},
     "output_type": "execute_result"
    }
   ],
   "source": [
    "rfe.ranking_ # may be different than the ranked feature importances!"
   ]
  },
  {
   "cell_type": "code",
   "execution_count": null,
   "metadata": {},
   "outputs": [],
   "source": []
  },
  {
   "cell_type": "markdown",
   "metadata": {},
   "source": [
    "We can do this same thing with a random forest. `RFE` will automatically use the random forests's `feature_importances_` instead of linear regression's `coef_`."
   ]
  },
  {
   "cell_type": "code",
   "execution_count": 46,
   "metadata": {},
   "outputs": [
    {
     "data": {
      "text/plain": [
       "0.8891910313672117"
      ]
     },
     "execution_count": 46,
     "metadata": {},
     "output_type": "execute_result"
    }
   ],
   "source": [
    "rf = RandomForestRegressor(random_state=123, max_depth=5, n_estimators=10)\n",
    "rf.fit(X_train_enc, y_train_log);\n",
    "rf.score(X_train_enc, y_train_log)"
   ]
  },
  {
   "cell_type": "code",
   "execution_count": 47,
   "metadata": {},
   "outputs": [
    {
     "data": {
      "text/plain": [
       "0.819405420056765"
      ]
     },
     "execution_count": 47,
     "metadata": {},
     "output_type": "execute_result"
    }
   ],
   "source": [
    "rf.score(X_test_enc, y_test_log)"
   ]
  },
  {
   "cell_type": "code",
   "execution_count": 48,
   "metadata": {},
   "outputs": [],
   "source": [
    "rfe = RFE(rf, n_features_to_select=100)\n",
    "rfe.fit(X_train_enc, y_train_log);"
   ]
  },
  {
   "cell_type": "code",
   "execution_count": 49,
   "metadata": {},
   "outputs": [
    {
     "data": {
      "text/plain": [
       "0.8900923726684768"
      ]
     },
     "execution_count": 49,
     "metadata": {},
     "output_type": "execute_result"
    }
   ],
   "source": [
    "rfe.score(X_train_enc, y_train_log)"
   ]
  },
  {
   "cell_type": "code",
   "execution_count": 50,
   "metadata": {},
   "outputs": [
    {
     "data": {
      "text/plain": [
       "0.8204816375480437"
      ]
     },
     "execution_count": 50,
     "metadata": {},
     "output_type": "execute_result"
    }
   ],
   "source": [
    "rfe.score(X_test_enc, y_test_log)"
   ]
  },
  {
   "cell_type": "markdown",
   "metadata": {},
   "source": [
    "# TODO\n",
    "\n",
    "plot train and test error (or really train and valid error) vs. number of feature selected"
   ]
  },
  {
   "cell_type": "markdown",
   "metadata": {},
   "source": [
    "- In this case the model was overfitting and feature selection helped a tiny bit.\n",
    "- But we may have achieved the same by tuning hyperparameters."
   ]
  },
  {
   "cell_type": "markdown",
   "metadata": {},
   "source": [
    "What about categorical features?"
   ]
  },
  {
   "cell_type": "code",
   "execution_count": 55,
   "metadata": {},
   "outputs": [
    {
     "data": {
      "text/plain": [
       "array(['LotFrontage', 'LotArea', 'OverallQual', 'OverallCond',\n",
       "       'YearBuilt', 'YearRemodAdd', 'MasVnrArea', 'BsmtFinSF1',\n",
       "       'BsmtFinSF2', 'BsmtUnfSF', 'TotalBsmtSF', '1stFlrSF', '2ndFlrSF',\n",
       "       'LowQualFinSF', 'GrLivArea', 'BsmtFullBath', 'BsmtHalfBath',\n",
       "       'FullBath', 'HalfBath', 'TotRmsAbvGrd', 'Fireplaces',\n",
       "       'GarageYrBlt', 'GarageCars', 'GarageArea', 'WoodDeckSF',\n",
       "       'OpenPorchSF', 'EnclosedPorch', '3SsnPorch', 'ScreenPorch',\n",
       "       'PoolArea', 'YrSold', 'ExterQual', 'ExterCond', 'BsmtQual',\n",
       "       'HeatingQC', 'KitchenQual', 'PoolQC', 'RoofStyle_Hip',\n",
       "       'Fence_GdWo', 'BsmtExposure_No', 'MSSubClass_20', 'MSSubClass_30',\n",
       "       'MSSubClass_60', 'MoSold_10', 'MoSold_12', 'LandSlope_Gtl',\n",
       "       'Exterior2nd_AsbShng', 'Exterior2nd_AsphShn',\n",
       "       'Exterior2nd_Brk Cmn', 'Exterior2nd_BrkFace',\n",
       "       'Neighborhood_Crawfor', 'Neighborhood_Gilbert',\n",
       "       'GarageType_Detchd', 'Alley_?', 'Alley_Grvl', 'Alley_Pave',\n",
       "       'MasVnrType_?', 'MasVnrType_BrkCmn', 'MasVnrType_BrkFace',\n",
       "       'MasVnrType_None', 'MasVnrType_Stone', 'BsmtFinType2_ALQ',\n",
       "       'BsmtFinType2_LwQ', 'BsmtFinType2_Rec', 'Electrical_FuseF',\n",
       "       'Electrical_FuseP', 'LandContour_HLS', 'GarageFinish_Fin',\n",
       "       'BsmtFinType1_BLQ', 'BsmtFinType1_Unf', 'HouseStyle_1.5Fin',\n",
       "       'CentralAir_N', 'CentralAir_Y', 'KitchenAbvGr_2', 'Functional_Typ',\n",
       "       'MSZoning_C (all)', 'MSZoning_RM', 'SaleCondition_Family',\n",
       "       'SaleCondition_Normal', 'LotConfig_Inside', 'Condition1_Feedr',\n",
       "       'Condition1_Norm', 'Condition1_RRAe', 'Condition1_RRAn',\n",
       "       'Condition1_RRNe', 'Condition1_RRNn', 'Street_Grvl', 'Street_Pave',\n",
       "       'Exterior1st_AsbShng', 'Exterior1st_BrkComm',\n",
       "       'Exterior1st_BrkFace', 'Exterior1st_CBlock', 'Exterior1st_CemntBd',\n",
       "       'Exterior1st_HdBoard', 'Exterior1st_MetalSd',\n",
       "       'Exterior1st_Plywood', 'Exterior1st_Stone', 'Exterior1st_Stucco',\n",
       "       'Exterior1st_VinylSd', 'Exterior1st_Wd Sdng'], dtype=object)"
      ]
     },
     "execution_count": 55,
     "metadata": {},
     "output_type": "execute_result"
    }
   ],
   "source": [
    "selected_columns = X_train_enc.columns[rfe.support_]\n",
    "selected_columns.values"
   ]
  },
  {
   "cell_type": "code",
   "execution_count": 56,
   "metadata": {},
   "outputs": [],
   "source": [
    "removed_columns = [col for col in X_train_enc.columns if col not in selected_columns]\n",
    "removed_columns;"
   ]
  },
  {
   "cell_type": "markdown",
   "metadata": {},
   "source": [
    "- Does it make sense that we removed `BldgType_Duplex` but kept `BldgType_1Fam`?\n",
    "  - This is a matter of opinion, I guess.\n",
    "- There are more sophisticated ways of selecting categorical features.\n",
    "- This seems to be unresolved in sklearn: https://github.com/scikit-learn/scikit-learn/issues/8480"
   ]
  },
  {
   "cell_type": "markdown",
   "metadata": {
    "slideshow": {
     "slide_type": "slide"
    }
   },
   "source": [
    "#### How to choose the number of features to select?\n",
    "\n",
    "- Suppose you don't know the number of relevant features in advance, \n",
    "- You can find them using cross validation with [RFECV](https://scikit-learn.org/stable/modules/generated/sklearn.feature_selection.RFECV.html#sklearn.feature_selection.RFECV)\n",
    "  - You would definitely not want to use training error! (Why?)"
   ]
  },
  {
   "cell_type": "code",
   "execution_count": 57,
   "metadata": {
    "slideshow": {
     "slide_type": "slide"
    }
   },
   "outputs": [
    {
     "name": "stdout",
     "output_type": "stream",
     "text": [
      "Number of selected features: 60/292\n"
     ]
    }
   ],
   "source": [
    "lr = Ridge(alpha=100)\n",
    "\n",
    "rfe_cv = RFECV(lr)\n",
    "rfe_cv.fit(X_train_enc, y_train_log)\n",
    "print('Number of selected features: %d/%d' % (rfe_cv.n_features_, X_train_enc.shape[1]))\n",
    "# print('Feature mask:', rfe_cv.support_)"
   ]
  },
  {
   "cell_type": "markdown",
   "metadata": {},
   "source": [
    "- It stopped once it got to 60 features.\n",
    "- Dropping down to 59 would lower the cross-validation score.\n",
    "  - This is similar to using cross-validation to tune a hyperparameter.\n",
    "  - Indeed, the number of selected features _is_ a hyperparameter."
   ]
  },
  {
   "cell_type": "markdown",
   "metadata": {},
   "source": [
    "Note: We are violating the Golden Rule a bit here, see above for sklearn issues."
   ]
  },
  {
   "cell_type": "markdown",
   "metadata": {
    "slideshow": {
     "slide_type": "slide"
    }
   },
   "source": [
    "#### Warnings about feature selection \n",
    "\n",
    "- A feature's relevance is only defined in the context of other features.\n",
    "    - Adding/removing features can make features relevant/irrelevant.\n",
    "- If features can be predicted from other other features, you cannot know which one to pick. \n",
    "- Relevance for features does not have a causal relationship. \n",
    "- Don't be overconfident. \n",
    "    - The methods we have seen probably do not discover the ground truth and how the world really works.\n",
    "    - They simply tell you which features help in predicting $y_i$ for the data you have."
   ]
  },
  {
   "cell_type": "markdown",
   "metadata": {},
   "source": [
    "#### (optional) Feature selection and OHE\n",
    "\n",
    "- If you are using OHE with `drop='first'`, and then feature selection, the choice to drop the first is no longer arbitrary.\n",
    "  - Say you have categories A,B,C,D\n",
    "  - you drop='first'\n",
    "  - so then you have B,C,D and 0,0,0 means A.\n",
    "  - Then you feature select out D\n",
    "  - Now you have B,C\n",
    "  - but now 0,0 means A or D.\n",
    "  - So now the feature removed by feature selection becomes mixed up with the \"arbitrary\" feature A."
   ]
  },
  {
   "cell_type": "markdown",
   "metadata": {},
   "source": [
    "## Break (5 min)\n",
    "\n",
    "<br><br><br><br>"
   ]
  },
  {
   "cell_type": "code",
   "execution_count": null,
   "metadata": {},
   "outputs": [],
   "source": []
  },
  {
   "cell_type": "markdown",
   "metadata": {},
   "source": [
    "## Midterm review (30 min)\n",
    "\n",
    "Practice question 1: Describe a scenario where you have an unbalanced training set and **would** want to set `class_weight='balanced'`, and a scenario where you have an unbalanced training set but **wouldn't** want to use it.\n",
    "\n",
    "<br><br><br><br><br><br>\n",
    "\n",
    "Answer (stealing from the chat): if your training data reflects deployment and you are not interested in 1 class over another( and care about accuracy) you wouldn’t want to use `class_weight=“balanced”`. "
   ]
  },
  {
   "cell_type": "code",
   "execution_count": null,
   "metadata": {},
   "outputs": [],
   "source": []
  },
  {
   "cell_type": "code",
   "execution_count": null,
   "metadata": {},
   "outputs": [],
   "source": []
  },
  {
   "cell_type": "markdown",
   "metadata": {},
   "source": [
    "Practice question 2: If we fit a logistic regression on a binary classification problem, how many coefficients will be learned? How can we interpret these coefficients?\n",
    "\n",
    "<br><br><br><br><br><br>"
   ]
  },
  {
   "cell_type": "markdown",
   "metadata": {},
   "source": [
    "One per transformed feature. The coefficients tell you how the probability score of the positive class would change when you increased that feature."
   ]
  },
  {
   "cell_type": "code",
   "execution_count": null,
   "metadata": {},
   "outputs": [],
   "source": []
  },
  {
   "cell_type": "code",
   "execution_count": null,
   "metadata": {},
   "outputs": [],
   "source": []
  },
  {
   "cell_type": "markdown",
   "metadata": {},
   "source": [
    "Practice question 3: We tend to split our data into three parts: train, (cross-)validation and test. Name an **advantage** ~~and a **disadvantage**~~ for taking this approach, as opposed to just using two splits (e.g. train and test).\n",
    "\n",
    "<br><br><br><br><br><br>"
   ]
  },
  {
   "cell_type": "markdown",
   "metadata": {},
   "source": [
    "Practice question 4: Suppose you train & tune a model and you get a final test score of 95%. Name three reasons why your deployment score might be lower.\n",
    "\n",
    "<br><br><br><br><br><br>"
   ]
  },
  {
   "cell_type": "markdown",
   "metadata": {},
   "source": [
    "## Q&A\n",
    "\n",
    "Should we go through last year's midterm?"
   ]
  },
  {
   "cell_type": "code",
   "execution_count": null,
   "metadata": {},
   "outputs": [],
   "source": []
  }
 ],
 "metadata": {
  "celltoolbar": "Slideshow",
  "kernelspec": {
   "display_name": "Python 3",
   "language": "python",
   "name": "python3"
  },
  "language_info": {
   "codemirror_mode": {
    "name": "ipython",
    "version": 3
   },
   "file_extension": ".py",
   "mimetype": "text/x-python",
   "name": "python",
   "nbconvert_exporter": "python",
   "pygments_lexer": "ipython3",
   "version": "3.8.5"
  }
 },
 "nbformat": 4,
 "nbformat_minor": 4
}
